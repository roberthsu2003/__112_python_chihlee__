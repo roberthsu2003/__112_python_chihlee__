{
 "cells": [
  {
   "cell_type": "code",
   "execution_count": 2,
   "metadata": {},
   "outputs": [],
   "source": [
    "stu1 = [78, 92, 65, 86, 74]\n",
    "stu2 = [78, 95, 63, 72, 74]\n",
    "stu3 = [62, 55, 73, 93, 64]"
   ]
  },
  {
   "cell_type": "code",
   "execution_count": 3,
   "metadata": {},
   "outputs": [
    {
     "data": {
      "text/plain": [
       "[[78, 92, 65, 86, 74], [78, 95, 63, 72, 74], [62, 55, 73, 93, 64]]"
      ]
     },
     "execution_count": 3,
     "metadata": {},
     "output_type": "execute_result"
    }
   ],
   "source": [
    "students = [stu1, stu2, stu3]\n",
    "students"
   ]
  },
  {
   "cell_type": "code",
   "execution_count": 4,
   "metadata": {},
   "outputs": [
    {
     "data": {
      "text/plain": [
       "[[78, 92, 65, 86, 74], [78, 95, 63, 72, 74], [62, 55, 73, 93, 64]]"
      ]
     },
     "execution_count": 4,
     "metadata": {},
     "output_type": "execute_result"
    }
   ],
   "source": [
    "students = list()\n",
    "students.append(stu1)\n",
    "students.append(stu2)\n",
    "students.append(stu3)\n",
    "students"
   ]
  },
  {
   "cell_type": "code",
   "execution_count": 11,
   "metadata": {},
   "outputs": [
    {
     "data": {
      "text/plain": [
       "[56, 81, 67, 95, 70]"
      ]
     },
     "execution_count": 11,
     "metadata": {},
     "output_type": "execute_result"
    }
   ],
   "source": [
    "#建立一個學生的5個分數\n",
    "import random\n",
    "stu = []\n",
    "for _ in range(5):    \n",
    "    score = random.randint(50,100)\n",
    "    stu.append(score)\n",
    "\n",
    "stu"
   ]
  },
  {
   "cell_type": "code",
   "execution_count": 12,
   "metadata": {},
   "outputs": [
    {
     "data": {
      "text/plain": [
       "[[74, 78, 57, 95, 99],\n",
       " [62, 80, 91, 87, 74],\n",
       " [80, 98, 82, 94, 63],\n",
       " [54, 68, 51, 96, 60],\n",
       " [96, 87, 50, 91, 96],\n",
       " [56, 80, 71, 92, 51],\n",
       " [71, 54, 94, 72, 78],\n",
       " [69, 78, 91, 56, 95],\n",
       " [61, 72, 52, 91, 86],\n",
       " [54, 99, 65, 72, 64],\n",
       " [97, 73, 73, 92, 72],\n",
       " [81, 96, 75, 88, 63],\n",
       " [83, 54, 75, 72, 62],\n",
       " [50, 72, 75, 93, 88],\n",
       " [92, 73, 74, 61, 55],\n",
       " [57, 69, 70, 71, 94],\n",
       " [77, 66, 53, 75, 86],\n",
       " [100, 100, 68, 64, 82],\n",
       " [73, 94, 58, 63, 100],\n",
       " [100, 53, 83, 57, 50],\n",
       " [90, 90, 52, 70, 54],\n",
       " [58, 69, 91, 89, 66],\n",
       " [84, 90, 82, 83, 74],\n",
       " [78, 62, 50, 58, 91],\n",
       " [87, 91, 84, 50, 71],\n",
       " [54, 97, 92, 68, 56],\n",
       " [94, 55, 53, 80, 60],\n",
       " [90, 99, 63, 50, 90],\n",
       " [55, 81, 82, 81, 51],\n",
       " [50, 73, 81, 51, 96],\n",
       " [90, 83, 86, 82, 72],\n",
       " [64, 59, 87, 74, 95],\n",
       " [83, 51, 62, 89, 97],\n",
       " [62, 56, 55, 63, 75],\n",
       " [82, 74, 54, 88, 68],\n",
       " [94, 82, 69, 82, 56],\n",
       " [87, 60, 66, 83, 96],\n",
       " [55, 71, 66, 100, 86],\n",
       " [82, 65, 68, 56, 65],\n",
       " [63, 75, 57, 57, 52],\n",
       " [79, 97, 92, 74, 86],\n",
       " [50, 63, 56, 96, 79],\n",
       " [75, 93, 71, 97, 63],\n",
       " [100, 71, 91, 66, 62],\n",
       " [70, 83, 99, 79, 98],\n",
       " [83, 59, 93, 97, 96],\n",
       " [82, 78, 71, 70, 56],\n",
       " [97, 89, 64, 64, 100],\n",
       " [100, 80, 61, 94, 79],\n",
       " [92, 99, 69, 72, 70]]"
      ]
     },
     "execution_count": 12,
     "metadata": {},
     "output_type": "execute_result"
    }
   ],
   "source": [
    "#建立一個學生的5個分數\n",
    "#建立50個學生\n",
    "\n",
    "students = []\n",
    "for _ in range(50):\n",
    "    stu = []\n",
    "    for _ in range(5):    \n",
    "        score = random.randint(50,100)\n",
    "        stu.append(score)\n",
    "    students.append(stu)\n",
    "\n",
    "students"
   ]
  }
 ],
 "metadata": {
  "kernelspec": {
   "display_name": "Python 3",
   "language": "python",
   "name": "python3"
  },
  "language_info": {
   "codemirror_mode": {
    "name": "ipython",
    "version": 3
   },
   "file_extension": ".py",
   "mimetype": "text/x-python",
   "name": "python",
   "nbconvert_exporter": "python",
   "pygments_lexer": "ipython3",
   "version": "3.10.13"
  }
 },
 "nbformat": 4,
 "nbformat_minor": 2
}
