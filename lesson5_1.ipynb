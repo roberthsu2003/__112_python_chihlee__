{
 "cells": [
  {
   "cell_type": "code",
   "execution_count": 1,
   "metadata": {},
   "outputs": [
    {
     "data": {
      "text/plain": [
       "5050"
      ]
     },
     "metadata": {},
     "output_type": "display_data"
    }
   ],
   "source": [
    "n = 0\n",
    "for i in range(1,101):\n",
    "    n += i\n",
    "\n",
    "display(n)\n"
   ]
  },
  {
   "cell_type": "code",
   "execution_count": 12,
   "metadata": {},
   "outputs": [
    {
     "name": "stdout",
     "output_type": "stream",
     "text": [
      "i=1\n",
      "j=1 2 3 4 5 6 7 8 9 \n",
      "==============\n",
      "i=2\n",
      "j=1 2 3 4 5 6 7 8 9 \n",
      "==============\n",
      "i=3\n",
      "j=1 2 3 4 5 6 7 8 9 \n",
      "==============\n",
      "i=4\n",
      "j=1 2 3 4 5 6 7 8 9 \n",
      "==============\n",
      "i=5\n",
      "j=1 2 3 4 5 6 7 8 9 \n",
      "==============\n",
      "i=6\n",
      "j=1 2 3 4 5 6 7 8 9 \n",
      "==============\n",
      "i=7\n",
      "j=1 2 3 4 5 6 7 8 9 \n",
      "==============\n",
      "i=8\n",
      "j=1 2 3 4 5 6 7 8 9 \n",
      "==============\n",
      "i=9\n",
      "j=1 2 3 4 5 6 7 8 9 \n",
      "==============\n"
     ]
    }
   ],
   "source": [
    "for i in range(1,10):\n",
    "    print(f'i={i}')\n",
    "    print('j=',end='')   \n",
    "    for j in range(1,10):       \n",
    "        print(f'{j}',end=' ')\n",
    "    print(\"\\n==============\")"
   ]
  },
  {
   "cell_type": "code",
   "execution_count": 8,
   "metadata": {},
   "outputs": [
    {
     "name": "stdout",
     "output_type": "stream",
     "text": [
      "1 2 3 5 6 7 a b c\n",
      "1-2-3-5-6-7-a-b-c\n",
      "1-2-3-5-6-7-a-b-c?\n",
      "1-2-3-5-6-7-a-b-c?\n"
     ]
    }
   ],
   "source": [
    "print(1,2,3,5,6,7,'a','b','c')\n",
    "print(1,2,3,5,6,7,'a','b','c',sep='-')\n",
    "print(1,2,3,5,6,7,'a','b','c',sep='-',end='?\\n')\n",
    "print(1,2,3,5,6,7,'a','b','c',end='?\\n',sep='-')"
   ]
  }
 ],
 "metadata": {
  "kernelspec": {
   "display_name": "Python 3",
   "language": "python",
   "name": "python3"
  },
  "language_info": {
   "codemirror_mode": {
    "name": "ipython",
    "version": 3
   },
   "file_extension": ".py",
   "mimetype": "text/x-python",
   "name": "python",
   "nbconvert_exporter": "python",
   "pygments_lexer": "ipython3",
   "version": "3.10.13"
  }
 },
 "nbformat": 4,
 "nbformat_minor": 2
}
