{
 "cells": [
  {
   "cell_type": "code",
   "execution_count": null,
   "metadata": {},
   "outputs": [],
   "source": [
    "from pandas.io.excel._base import ExcelWriter\n",
    "excel_path = '天龍國小1.xlsx'\n",
    "##with ExcelWriter(excel_path, engine='openpyxl') as writer:\n",
    "writer=ExcelWriter(excel_path, engine='openpyxl')\n",
    "writer.close()"
   ]
  }
 ],
 "metadata": {
  "language_info": {
   "name": "python"
  }
 },
 "nbformat": 4,
 "nbformat_minor": 2
}
