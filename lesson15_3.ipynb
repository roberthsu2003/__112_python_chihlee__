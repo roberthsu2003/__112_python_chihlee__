{
 "cells": [
  {
   "cell_type": "code",
   "execution_count": 4,
   "metadata": {},
   "outputs": [
    {
     "data": {
      "text/html": [
       "<div>\n",
       "<style scoped>\n",
       "    .dataframe tbody tr th:only-of-type {\n",
       "        vertical-align: middle;\n",
       "    }\n",
       "\n",
       "    .dataframe tbody tr th {\n",
       "        vertical-align: top;\n",
       "    }\n",
       "\n",
       "    .dataframe thead th {\n",
       "        text-align: right;\n",
       "    }\n",
       "</style>\n",
       "<table border=\"1\" class=\"dataframe\">\n",
       "  <thead>\n",
       "    <tr style=\"text-align: right;\">\n",
       "      <th></th>\n",
       "      <th>d</th>\n",
       "      <th>f</th>\n",
       "      <th>e</th>\n",
       "    </tr>\n",
       "  </thead>\n",
       "  <tbody>\n",
       "    <tr>\n",
       "      <th>台北</th>\n",
       "      <td>0.883525</td>\n",
       "      <td>-2.064344</td>\n",
       "      <td>-0.596694</td>\n",
       "    </tr>\n",
       "    <tr>\n",
       "      <th>台中</th>\n",
       "      <td>1.336756</td>\n",
       "      <td>-1.355989</td>\n",
       "      <td>0.527189</td>\n",
       "    </tr>\n",
       "    <tr>\n",
       "      <th>台南</th>\n",
       "      <td>0.853342</td>\n",
       "      <td>0.097825</td>\n",
       "      <td>-0.841606</td>\n",
       "    </tr>\n",
       "    <tr>\n",
       "      <th>高雄</th>\n",
       "      <td>-0.157220</td>\n",
       "      <td>0.611783</td>\n",
       "      <td>-0.464270</td>\n",
       "    </tr>\n",
       "  </tbody>\n",
       "</table>\n",
       "</div>"
      ],
      "text/plain": [
       "           d         f         e\n",
       "台北  0.883525 -2.064344 -0.596694\n",
       "台中  1.336756 -1.355989  0.527189\n",
       "台南  0.853342  0.097825 -0.841606\n",
       "高雄 -0.157220  0.611783 -0.464270"
      ]
     },
     "execution_count": 4,
     "metadata": {},
     "output_type": "execute_result"
    }
   ],
   "source": [
    "import numpy as np\n",
    "import pandas as pd\n",
    "\n",
    "frame = pd.DataFrame(np.random.randn(4,3),\n",
    "             columns=['d','f','e'],\n",
    "             index=['台北','台中','台南','高雄']\n",
    "            )\n",
    "frame"
   ]
  },
  {
   "cell_type": "code",
   "execution_count": 5,
   "metadata": {},
   "outputs": [
    {
     "data": {
      "text/html": [
       "<div>\n",
       "<style scoped>\n",
       "    .dataframe tbody tr th:only-of-type {\n",
       "        vertical-align: middle;\n",
       "    }\n",
       "\n",
       "    .dataframe tbody tr th {\n",
       "        vertical-align: top;\n",
       "    }\n",
       "\n",
       "    .dataframe thead th {\n",
       "        text-align: right;\n",
       "    }\n",
       "</style>\n",
       "<table border=\"1\" class=\"dataframe\">\n",
       "  <thead>\n",
       "    <tr style=\"text-align: right;\">\n",
       "      <th></th>\n",
       "      <th>d</th>\n",
       "      <th>f</th>\n",
       "      <th>e</th>\n",
       "    </tr>\n",
       "  </thead>\n",
       "  <tbody>\n",
       "    <tr>\n",
       "      <th>台北</th>\n",
       "      <td>0.883525</td>\n",
       "      <td>2.064344</td>\n",
       "      <td>0.596694</td>\n",
       "    </tr>\n",
       "    <tr>\n",
       "      <th>台中</th>\n",
       "      <td>1.336756</td>\n",
       "      <td>1.355989</td>\n",
       "      <td>0.527189</td>\n",
       "    </tr>\n",
       "    <tr>\n",
       "      <th>台南</th>\n",
       "      <td>0.853342</td>\n",
       "      <td>0.097825</td>\n",
       "      <td>0.841606</td>\n",
       "    </tr>\n",
       "    <tr>\n",
       "      <th>高雄</th>\n",
       "      <td>0.157220</td>\n",
       "      <td>0.611783</td>\n",
       "      <td>0.464270</td>\n",
       "    </tr>\n",
       "  </tbody>\n",
       "</table>\n",
       "</div>"
      ],
      "text/plain": [
       "           d         f         e\n",
       "台北  0.883525  2.064344  0.596694\n",
       "台中  1.336756  1.355989  0.527189\n",
       "台南  0.853342  0.097825  0.841606\n",
       "高雄  0.157220  0.611783  0.464270"
      ]
     },
     "execution_count": 5,
     "metadata": {},
     "output_type": "execute_result"
    }
   ],
   "source": [
    "np.absolute(frame)"
   ]
  },
  {
   "cell_type": "code",
   "execution_count": 9,
   "metadata": {},
   "outputs": [
    {
     "name": "stdout",
     "output_type": "stream",
     "text": [
      "0.8835247830857904\n",
      "1.3367555661587036\n",
      "0.8533421802557388\n",
      "-0.1572201049112201\n",
      "=======\n",
      "-2.0643438400531537\n",
      "-1.3559891992018949\n",
      "0.09782471478968248\n",
      "0.6117832894880962\n",
      "=======\n",
      "-0.5966938740203166\n",
      "0.527189007454176\n",
      "-0.8416059636003599\n",
      "-0.4642700562634403\n",
      "=======\n"
     ]
    }
   ],
   "source": [
    "#使用for in 讀取DataFrame\n",
    "for column in frame:\n",
    "    for item in frame[column]:\n",
    "        print(item)\n",
    "    print(\"=======\")"
   ]
  },
  {
   "cell_type": "code",
   "execution_count": 10,
   "metadata": {},
   "outputs": [
    {
     "name": "stdout",
     "output_type": "stream",
     "text": [
      "台北    0.883525\n",
      "台中    1.336756\n",
      "台南    0.853342\n",
      "高雄    0.157220\n",
      "Name: d, dtype: float64\n",
      "台北    2.064344\n",
      "台中    1.355989\n",
      "台南    0.097825\n",
      "高雄    0.611783\n",
      "Name: f, dtype: float64\n",
      "台北    0.596694\n",
      "台中    0.527189\n",
      "台南    0.841606\n",
      "高雄    0.464270\n",
      "Name: e, dtype: float64\n"
     ]
    }
   ],
   "source": [
    "#使用for in 讀取DataFrame\n",
    "for column in frame:\n",
    "    print(np.abs(frame[column]))\n",
    "        "
   ]
  },
  {
   "cell_type": "code",
   "execution_count": 12,
   "metadata": {},
   "outputs": [
    {
     "data": {
      "text/plain": [
       "d    1.336756\n",
       "f    0.611783\n",
       "e    0.527189\n",
       "dtype: float64"
      ]
     },
     "execution_count": 12,
     "metadata": {},
     "output_type": "execute_result"
    }
   ],
   "source": [
    "np.max(frame,axis=0)"
   ]
  },
  {
   "cell_type": "code",
   "execution_count": 13,
   "metadata": {},
   "outputs": [
    {
     "data": {
      "text/plain": [
       "台北    0.883525\n",
       "台中    1.336756\n",
       "台南    0.853342\n",
       "高雄    0.611783\n",
       "dtype: float64"
      ]
     },
     "execution_count": 13,
     "metadata": {},
     "output_type": "execute_result"
    }
   ],
   "source": [
    "np.max(frame,axis=1)"
   ]
  },
  {
   "cell_type": "code",
   "execution_count": 14,
   "metadata": {},
   "outputs": [
    {
     "data": {
      "text/plain": [
       "d    1.493976\n",
       "f    2.676127\n",
       "e    1.368795\n",
       "dtype: float64"
      ]
     },
     "execution_count": 14,
     "metadata": {},
     "output_type": "execute_result"
    }
   ],
   "source": [
    "#使用numpy的function\n",
    "np.max(frame,axis=0) - np.min(frame,axis=0)"
   ]
  },
  {
   "cell_type": "code",
   "execution_count": 16,
   "metadata": {},
   "outputs": [
    {
     "data": {
      "text/plain": [
       "d    1.493976\n",
       "f    2.676127\n",
       "e    1.368795\n",
       "dtype: float64"
      ]
     },
     "execution_count": 16,
     "metadata": {},
     "output_type": "execute_result"
    }
   ],
   "source": [
    "#使用dataFrame的method\n",
    "frame.max(axis=0) - frame.min(axis=0)"
   ]
  },
  {
   "cell_type": "code",
   "execution_count": 19,
   "metadata": {},
   "outputs": [
    {
     "name": "stdout",
     "output_type": "stream",
     "text": [
      "d\n",
      "f\n",
      "e\n"
     ]
    },
    {
     "data": {
      "text/plain": [
       "d    2.493976\n",
       "f    3.676127\n",
       "e    2.368795\n",
       "dtype: float64"
      ]
     },
     "execution_count": 19,
     "metadata": {},
     "output_type": "execute_result"
    }
   ],
   "source": [
    "def fun1(series):\n",
    "    print(series.name)\n",
    "    return series.max() - series.min() + 1\n",
    "\n",
    "frame.apply(fun1)"
   ]
  }
 ],
 "metadata": {
  "kernelspec": {
   "display_name": "Python 3",
   "language": "python",
   "name": "python3"
  },
  "language_info": {
   "codemirror_mode": {
    "name": "ipython",
    "version": 3
   },
   "file_extension": ".py",
   "mimetype": "text/x-python",
   "name": "python",
   "nbconvert_exporter": "python",
   "pygments_lexer": "ipython3",
   "version": "3.10.13"
  }
 },
 "nbformat": 4,
 "nbformat_minor": 2
}
