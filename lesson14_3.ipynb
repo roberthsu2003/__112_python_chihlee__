{
 "cells": [
  {
   "cell_type": "code",
   "execution_count": 11,
   "metadata": {},
   "outputs": [],
   "source": [
    "import numpy as np\n",
    "import pandas as pd\n",
    "scroes = np.random.randint(50, 100,size=(50,5))\n",
    "scores_df = pd.DataFrame(scroes,\n",
    "             columns=['國文', '英文', '數學', '地理', '歷史'],\n",
    "             index=range(1,51))\n",
    "scores_df\n",
    "sum_values = scores_df.sum(axis=1)\n",
    "mean_values = scores_df.mean(axis=1)\n",
    "scores_df['總分'] = sum_values\n",
    "scores_df['平均'] = mean_values"
   ]
  },
  {
   "cell_type": "code",
   "execution_count": 17,
   "metadata": {},
   "outputs": [],
   "source": [
    "scores_df\n",
    "pdstyle = scores_df.style\\\n",
    "    .format(precision=2)\\\n",
    "    .highlight_between(left=50,right=59,props='color:white; background-color:#CB1B45;')\\\n",
    "    .highlight_max(axis=1,subset=scores_df.columns[:5],props='color:white; background-color:#2B5F75;')\n",
    "    \n",
    "    \n",
    "    "
   ]
  },
  {
   "cell_type": "code",
   "execution_count": 18,
   "metadata": {},
   "outputs": [
    {
     "ename": "AttributeError",
     "evalue": "can't set attribute 'book'",
     "output_type": "error",
     "traceback": [
      "\u001b[0;31m---------------------------------------------------------------------------\u001b[0m",
      "\u001b[0;31mAttributeError\u001b[0m                            Traceback (most recent call last)",
      "\u001b[1;32m/workspaces/__112_python_chihlee__/lesson14_3.ipynb 儲存格 3\u001b[0m line \u001b[0;36m4\n\u001b[1;32m      <a href='vscode-notebook-cell://codespaces%2Bstunning-succotash-5gw7r74g7wc77jq/workspaces/__112_python_chihlee__/lesson14_3.ipynb#W2sdnNjb2RlLXJlbW90ZQ%3D%3D?line=1'>2</a>\u001b[0m book \u001b[39m=\u001b[39m load_workbook(\u001b[39m'\u001b[39m\u001b[39m天龍國小.xlsx\u001b[39m\u001b[39m'\u001b[39m)\n\u001b[1;32m      <a href='vscode-notebook-cell://codespaces%2Bstunning-succotash-5gw7r74g7wc77jq/workspaces/__112_python_chihlee__/lesson14_3.ipynb#W2sdnNjb2RlLXJlbW90ZQ%3D%3D?line=2'>3</a>\u001b[0m writer \u001b[39m=\u001b[39m pd\u001b[39m.\u001b[39mExcelWriter(\u001b[39m'\u001b[39m\u001b[39m天龍國小.xlsx\u001b[39m\u001b[39m'\u001b[39m, engine\u001b[39m=\u001b[39m\u001b[39m'\u001b[39m\u001b[39mopenpyxl\u001b[39m\u001b[39m'\u001b[39m)\n\u001b[0;32m----> <a href='vscode-notebook-cell://codespaces%2Bstunning-succotash-5gw7r74g7wc77jq/workspaces/__112_python_chihlee__/lesson14_3.ipynb#W2sdnNjb2RlLXJlbW90ZQ%3D%3D?line=3'>4</a>\u001b[0m writer\u001b[39m.\u001b[39;49mbook \u001b[39m=\u001b[39m book\n\u001b[1;32m      <a href='vscode-notebook-cell://codespaces%2Bstunning-succotash-5gw7r74g7wc77jq/workspaces/__112_python_chihlee__/lesson14_3.ipynb#W2sdnNjb2RlLXJlbW90ZQ%3D%3D?line=4'>5</a>\u001b[0m writer\u001b[39m.\u001b[39msheets \u001b[39m=\u001b[39m \u001b[39mdict\u001b[39m((ws\u001b[39m.\u001b[39mtitle, ws) \u001b[39mfor\u001b[39;00m ws \u001b[39min\u001b[39;00m book\u001b[39m.\u001b[39mworksheets)\n\u001b[1;32m      <a href='vscode-notebook-cell://codespaces%2Bstunning-succotash-5gw7r74g7wc77jq/workspaces/__112_python_chihlee__/lesson14_3.ipynb#W2sdnNjb2RlLXJlbW90ZQ%3D%3D?line=5'>6</a>\u001b[0m pdstyle\u001b[39m.\u001b[39mto_excel(writer,sheet_name\u001b[39m=\u001b[39m\u001b[39m'\u001b[39m\u001b[39m3年2班\u001b[39m\u001b[39m'\u001b[39m)\n",
      "\u001b[0;31mAttributeError\u001b[0m: can't set attribute 'book'"
     ]
    }
   ],
   "source": [
    "from openpyxl import load_workbook\n",
    "book = load_workbook('天龍國小.xlsx')\n",
    "writer = pd.ExcelWriter('天龍國小.xlsx', engine='openpyxl')\n",
    "writer.book = book\n",
    "writer.sheets = dict((ws.title, ws) for ws in book.worksheets)\n",
    "pdstyle.to_excel(writer,sheet_name='3年2班')"
   ]
  }
 ],
 "metadata": {
  "kernelspec": {
   "display_name": "Python 3",
   "language": "python",
   "name": "python3"
  },
  "language_info": {
   "codemirror_mode": {
    "name": "ipython",
    "version": 3
   },
   "file_extension": ".py",
   "mimetype": "text/x-python",
   "name": "python",
   "nbconvert_exporter": "python",
   "pygments_lexer": "ipython3",
   "version": "3.10.13"
  }
 },
 "nbformat": 4,
 "nbformat_minor": 2
}
