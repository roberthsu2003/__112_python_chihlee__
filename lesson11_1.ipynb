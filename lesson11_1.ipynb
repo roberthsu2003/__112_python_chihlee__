{
 "cells": [
  {
   "cell_type": "code",
   "execution_count": 5,
   "metadata": {},
   "outputs": [
    {
     "name": "stdout",
     "output_type": "stream",
     "text": [
      "<html lang=\"en-SG\"><head><meta http-equiv=\"Content-Type\" content=\"text/html; charset=UTF-8\"><title>Redirect Notice</title><style>body,div,a{font-family:arial,sans-serif}body{background-color:#fff;margin-top:3px}div{color:#000}a:link{color:#681da8}a:visited{color:#681da8}a:active{color:#ea4335}div.mymGo{border-top:1px solid #dadce0;border-bottom:1px solid #dadce0;background:#f8f9fa;margin-top:1em;width:100%}div.aXgaGb{padding:0.5em 0;margin-left:10px}div.fTk7vd{margin-left:35px;margin-top:35px}</style></head><body><div class=\"mymGo\"><div class=\"aXgaGb\"><font style=\"font-size:larger\"><b>Redirect Notice</b></font></div></div><div class=\"fTk7vd\">&nbsp;The page you were on is trying to send you to <a href=\"https://service.taipower.com.tw/data/opendata/apply/file/d010004/%E6%9C%AC%E5%85%AC%E5%8F%B8%E5%9C%9F%E5%9C%B0%E5%87%BA%E7%A7%9F%E4%BD%9C%E9%9B%BB%E5%8B%95%E6%A9%9F%E8%BB%8A%E9%9B%BB%E6%B1%A0%E4%BA%A4%E6%8F%9B%E7%AB%99%E6%98%8E%E7%B4%B0%E8%A1%A8(%E6%96%B0).csv\">https://service.taipower.com.tw/data/opendata/apply/file/d010004/%E6%9C%AC%E5%85%AC%E5%8F%B8%E5%9C%9F%E5%9C%B0%E5%87%BA%E7%A7%9F%E4%BD%9C%E9%9B%BB%E5%8B%95%E6%A9%9F%E8%BB%8A%E9%9B%BB%E6%B1%A0%E4%BA%A4%E6%8F%9B%E7%AB%99%E6%98%8E%E7%B4%B0%E8%A1%A8(%E6%96%B0).csv</a>.<br><br>&nbsp;If you do not want to visit that page, you can <a href=\"#\" id=\"tsuid_1\">return to the previous page</a>.<script nonce=\"v5J9ANL04XubrhWn0rHZdg\">(function(){var id='tsuid_1';(function(){document.getElementById(id).onclick=function(){window.history.back();return!1};}).call(this);})();(function(){var id='tsuid_1';var ct='originlink';var oi='unauthorizedredirect';(function(){document.getElementById(id).onmousedown=function(){var b=document&&document.referrer,a=\"encodeURIComponent\"in window?encodeURIComponent:escape,c=\"\";b&&(c=a(b));(new Image).src=\"/url?sa=T&url=\"+c+\"&oi=\"+a(oi)+\"&ct=\"+a(ct);return!1};}).call(this);})();</script><br><br><br></div></body></html>\n"
     ]
    }
   ],
   "source": [
    "import requests\n",
    "from fake_useragent import UserAgent\n",
    "\n",
    "url = 'https://www.google.com/url?sa=j&url=https%3A%2F%2Fservice.taipower.com.tw%2Fdata%2Fopendata%2Fapply%2Ffile%2Fd010004%2F%25E6%259C%25AC%25E5%2585%25AC%25E5%258F%25B8%25E5%259C%259F%25E5%259C%25B0%25E5%2587%25BA%25E7%25A7%259F%25E4%25BD%259C%25E9%259B%25BB%25E5%258B%2595%25E6%25A9%259F%25E8%25BB%258A%25E9%259B%25BB%25E6%25B1%25A0%25E4%25BA%25A4%25E6%258F%259B%25E7%25AB%2599%25E6%2598%258E%25E7%25B4%25B0%25E8%25A1%25A8(%25E6%2596%25B0).csv&uct=1700270084&usg=NOgVk30Z2r5jza84Hg8QqIoxXZc.&opi=76390225&source=meet'\n",
    "ua = UserAgent()\n",
    "response = requests.get(url,headers={'User-Agent':ua.random})\n",
    "if response.status_code == 200:\n",
    "    print(response.text)"
   ]
  }
 ],
 "metadata": {
  "kernelspec": {
   "display_name": "Python 3",
   "language": "python",
   "name": "python3"
  },
  "language_info": {
   "codemirror_mode": {
    "name": "ipython",
    "version": 3
   },
   "file_extension": ".py",
   "mimetype": "text/x-python",
   "name": "python",
   "nbconvert_exporter": "python",
   "pygments_lexer": "ipython3",
   "version": "3.10.13"
  }
 },
 "nbformat": 4,
 "nbformat_minor": 2
}
