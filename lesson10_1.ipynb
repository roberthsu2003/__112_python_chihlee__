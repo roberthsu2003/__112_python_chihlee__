{
 "cells": [
  {
   "cell_type": "code",
   "execution_count": 1,
   "metadata": {},
   "outputs": [
    {
     "data": {
      "text/plain": [
       "[[99, 77, 55, 69, 52],\n",
       " [90, 77, 58, 72, 70],\n",
       " [73, 73, 98, 70, 88],\n",
       " [83, 54, 88, 89, 92],\n",
       " [71, 86, 60, 79, 75],\n",
       " [60, 71, 66, 98, 74],\n",
       " [91, 81, 97, 50, 79],\n",
       " [79, 58, 53, 58, 53],\n",
       " [70, 97, 85, 93, 86],\n",
       " [62, 72, 86, 61, 60]]"
      ]
     },
     "execution_count": 1,
     "metadata": {},
     "output_type": "execute_result"
    }
   ],
   "source": [
    "import random\n",
    "def createStudent()->list[int]:\n",
    "    stu = []\n",
    "    for _ in range(5):    \n",
    "        score = random.randint(50,100)\n",
    "        stu.append(score)\n",
    "    return stu\n",
    "\n",
    "def createClasses(numbers:int)->list[list]:\n",
    "    classes = []\n",
    "    for _ in range(numbers):\n",
    "        stu = createStudent()\n",
    "        classes.append(stu)\n",
    "    return classes\n",
    "\n",
    "createClasses(10)"
   ]
  },
  {
   "cell_type": "code",
   "execution_count": null,
   "metadata": {},
   "outputs": [],
   "source": [
    "#存檔\n",
    "file = open('students.csv',mode='w',encoding='utf-8',newline='')\n",
    "file.write(\"這是測試\")\n",
    "file.close()"
   ]
  }
 ],
 "metadata": {
  "kernelspec": {
   "display_name": "Python 3",
   "language": "python",
   "name": "python3"
  },
  "language_info": {
   "codemirror_mode": {
    "name": "ipython",
    "version": 3
   },
   "file_extension": ".py",
   "mimetype": "text/x-python",
   "name": "python",
   "nbconvert_exporter": "python",
   "pygments_lexer": "ipython3",
   "version": "3.10.13"
  }
 },
 "nbformat": 4,
 "nbformat_minor": 2
}
